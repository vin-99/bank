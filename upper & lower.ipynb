{
 "cells": [
  {
   "cell_type": "code",
   "execution_count": 3,
   "id": "4ced15de",
   "metadata": {},
   "outputs": [
    {
     "name": "stdout",
     "output_type": "stream",
     "text": [
      "Enter the first number: 220\n",
      "Enter the second number: 284\n",
      "284\n",
      "220\n",
      "they are not friendly pairs\n"
     ]
    }
   ],
   "source": [
    "num1 = input(\"Enter the first number: \")\n",
    "num2 = input(\"Enter the second number: \")\n",
    "cos1 = int(num1)\n",
    "cos2 = int(num2)\n",
    "count1 = 0\n",
    "count2 = 0\n",
    "for i in range(1,cos1):\n",
    "    if cos1%i == 0:\n",
    "        count1+=i\n",
    "for x in range(1,cos2):\n",
    "    if cos2%x == 0:\n",
    "        count2+=x\n",
    "        \n",
    "print(count1)\n",
    "print(count2)\n",
    "        \n",
    "if count1 == num1 and count2 == num2:\n",
    "    print(\"They are friendly Pairs\")\n",
    "else:\n",
    "    print(\"they are not friendly pairs\")\n",
    "    \n",
    "    \n",
    "    \n",
    "    \n",
    "    \n",
    "    \n",
    "    \n",
    "    \n",
    "    \n"
   ]
  },
  {
   "cell_type": "code",
   "execution_count": null,
   "id": "2ad4b914",
   "metadata": {},
   "outputs": [],
   "source": []
  },
  {
   "cell_type": "code",
   "execution_count": 24,
   "id": "688dee79",
   "metadata": {},
   "outputs": [
    {
     "name": "stdout",
     "output_type": "stream",
     "text": [
      "Enter any number145\n",
      "enter the second number95\n",
      "the given hcf of the number is 5\n"
     ]
    }
   ],
   "source": [
    "num1 = int(input(\"Enter any number1\"))\n",
    "num2 = int(input(\"enter the second number\"))\n",
    "l1 = []\n",
    "if num1>num2:\n",
    "    smaller = num2\n",
    "else:\n",
    "    smaller = num1\n",
    "    \n",
    "for i in range(1, smaller+1):\n",
    "    if num1%i == 0 and num2%i == 0:\n",
    "        l1.append(i)\n",
    "        \n",
    "print(\"the given hcf of the number is\",max(l1))"
   ]
  },
  {
   "cell_type": "code",
   "execution_count": 7,
   "id": "a00fb29b",
   "metadata": {},
   "outputs": [
    {
     "name": "stdout",
     "output_type": "stream",
     "text": [
      "False\n"
     ]
    }
   ],
   "source": [
    "print(2<2"
   ]
  },
  {
   "cell_type": "code",
   "execution_count": 32,
   "id": "6e1379ab",
   "metadata": {},
   "outputs": [
    {
     "name": "stdout",
     "output_type": "stream",
     "text": [
      "Enter any number115\n",
      "enter the second number35\n",
      "5\n"
     ]
    }
   ],
   "source": [
    "num1 = int(input(\"Enter any number1\"))\n",
    "num2 = int(input(\"enter the second number\"))\n",
    "l1= []\n",
    "c = 1\n",
    "if num1<num2:\n",
    "    smaller = num2\n",
    "else:\n",
    "    smaller = num1\n",
    "\n",
    "while num1%c == 0 and num2%c == 0:\n",
    "    l1.append(c)"
   ]
  },
  {
   "cell_type": "code",
   "execution_count": 47,
   "id": "cb1e97cc",
   "metadata": {},
   "outputs": [
    {
     "name": "stdout",
     "output_type": "stream",
     "text": [
      "seats6\n",
      "students10\n",
      "3628800\n",
      "24\n",
      "151200.0\n"
     ]
    }
   ],
   "source": [
    "seats = input(\"seats\")\n",
    "students = input(\"students\")\n",
    "s = int(seats)\n",
    "st = int(students)\n",
    "z =1\n",
    "c = st-s\n",
    "x =1\n",
    "\n",
    "for i in range (1,st+1):\n",
    "    z = z*i\n",
    "print(z)\n",
    "for i in range(1,c+1):\n",
    "    x = x*i\n",
    "print(x)\n",
    "\n",
    "V = z/x\n",
    "print(V)"
   ]
  },
  {
   "cell_type": "code",
   "execution_count": 53,
   "id": "90c109ad",
   "metadata": {},
   "outputs": [
    {
     "name": "stdout",
     "output_type": "stream",
     "text": [
      "435.0\n"
     ]
    }
   ],
   "source": [
    "N =30\n",
    "\n",
    "V = (N * ((N-1)/2))\n",
    "\n",
    "print(V)"
   ]
  },
  {
   "cell_type": "code",
   "execution_count": 50,
   "id": "73d5310c",
   "metadata": {},
   "outputs": [
    {
     "name": "stdout",
     "output_type": "stream",
     "text": [
      "435\n"
     ]
    }
   ],
   "source": [
    "c = 15*29\n",
    "print(c)"
   ]
  },
  {
   "cell_type": "code",
   "execution_count": 7,
   "id": "d60d8008",
   "metadata": {},
   "outputs": [
    {
     "ename": "KeyboardInterrupt",
     "evalue": "Interrupted by user",
     "output_type": "error",
     "traceback": [
      "\u001b[1;31m---------------------------------------------------------------------------\u001b[0m",
      "\u001b[1;31mKeyboardInterrupt\u001b[0m                         Traceback (most recent call last)",
      "\u001b[1;32m~\\AppData\\Local\\Temp/ipykernel_3896/2227163910.py\u001b[0m in \u001b[0;36m<module>\u001b[1;34m\u001b[0m\n\u001b[1;32m----> 1\u001b[1;33m \u001b[0mstring\u001b[0m  \u001b[1;33m=\u001b[0m \u001b[0mint\u001b[0m\u001b[1;33m(\u001b[0m\u001b[0minput\u001b[0m\u001b[1;33m(\u001b[0m\u001b[1;34m\"enter any string here:\"\u001b[0m\u001b[1;33m)\u001b[0m\u001b[1;33m)\u001b[0m\u001b[1;33m\u001b[0m\u001b[1;33m\u001b[0m\u001b[0m\n\u001b[0m\u001b[0;32m      2\u001b[0m \u001b[1;33m\u001b[0m\u001b[0m\n\u001b[0;32m      3\u001b[0m \u001b[0ms\u001b[0m \u001b[1;33m=\u001b[0m \u001b[0mstring\u001b[0m\u001b[1;33m.\u001b[0m\u001b[0mreplace\u001b[0m\u001b[1;33m(\u001b[0m\u001b[1;36m0\u001b[0m\u001b[1;33m,\u001b[0m\u001b[1;36m1\u001b[0m\u001b[1;33m)\u001b[0m\u001b[1;33m\u001b[0m\u001b[1;33m\u001b[0m\u001b[0m\n\u001b[0;32m      4\u001b[0m \u001b[0mprint\u001b[0m\u001b[1;33m(\u001b[0m\u001b[0ms\u001b[0m\u001b[1;33m)\u001b[0m\u001b[1;33m\u001b[0m\u001b[1;33m\u001b[0m\u001b[0m\n\u001b[0;32m      5\u001b[0m \u001b[1;33m\u001b[0m\u001b[0m\n",
      "\u001b[1;32m~\\AppData\\Local\\Programs\\Python\\Python310\\lib\\site-packages\\ipykernel\\kernelbase.py\u001b[0m in \u001b[0;36mraw_input\u001b[1;34m(self, prompt)\u001b[0m\n\u001b[0;32m   1005\u001b[0m                 \u001b[1;34m\"raw_input was called, but this frontend does not support input requests.\"\u001b[0m\u001b[1;33m\u001b[0m\u001b[1;33m\u001b[0m\u001b[0m\n\u001b[0;32m   1006\u001b[0m             )\n\u001b[1;32m-> 1007\u001b[1;33m         return self._input_request(\n\u001b[0m\u001b[0;32m   1008\u001b[0m             \u001b[0mstr\u001b[0m\u001b[1;33m(\u001b[0m\u001b[0mprompt\u001b[0m\u001b[1;33m)\u001b[0m\u001b[1;33m,\u001b[0m\u001b[1;33m\u001b[0m\u001b[1;33m\u001b[0m\u001b[0m\n\u001b[0;32m   1009\u001b[0m             \u001b[0mself\u001b[0m\u001b[1;33m.\u001b[0m\u001b[0m_parent_ident\u001b[0m\u001b[1;33m[\u001b[0m\u001b[1;34m\"shell\"\u001b[0m\u001b[1;33m]\u001b[0m\u001b[1;33m,\u001b[0m\u001b[1;33m\u001b[0m\u001b[1;33m\u001b[0m\u001b[0m\n",
      "\u001b[1;32m~\\AppData\\Local\\Programs\\Python\\Python310\\lib\\site-packages\\ipykernel\\kernelbase.py\u001b[0m in \u001b[0;36m_input_request\u001b[1;34m(self, prompt, ident, parent, password)\u001b[0m\n\u001b[0;32m   1050\u001b[0m             \u001b[1;32mexcept\u001b[0m \u001b[0mKeyboardInterrupt\u001b[0m\u001b[1;33m:\u001b[0m\u001b[1;33m\u001b[0m\u001b[1;33m\u001b[0m\u001b[0m\n\u001b[0;32m   1051\u001b[0m                 \u001b[1;31m# re-raise KeyboardInterrupt, to truncate traceback\u001b[0m\u001b[1;33m\u001b[0m\u001b[1;33m\u001b[0m\u001b[0m\n\u001b[1;32m-> 1052\u001b[1;33m                 \u001b[1;32mraise\u001b[0m \u001b[0mKeyboardInterrupt\u001b[0m\u001b[1;33m(\u001b[0m\u001b[1;34m\"Interrupted by user\"\u001b[0m\u001b[1;33m)\u001b[0m \u001b[1;32mfrom\u001b[0m \u001b[1;32mNone\u001b[0m\u001b[1;33m\u001b[0m\u001b[1;33m\u001b[0m\u001b[0m\n\u001b[0m\u001b[0;32m   1053\u001b[0m             \u001b[1;32mexcept\u001b[0m \u001b[0mException\u001b[0m\u001b[1;33m:\u001b[0m\u001b[1;33m\u001b[0m\u001b[1;33m\u001b[0m\u001b[0m\n\u001b[0;32m   1054\u001b[0m                 \u001b[0mself\u001b[0m\u001b[1;33m.\u001b[0m\u001b[0mlog\u001b[0m\u001b[1;33m.\u001b[0m\u001b[0mwarning\u001b[0m\u001b[1;33m(\u001b[0m\u001b[1;34m\"Invalid Message:\"\u001b[0m\u001b[1;33m,\u001b[0m \u001b[0mexc_info\u001b[0m\u001b[1;33m=\u001b[0m\u001b[1;32mTrue\u001b[0m\u001b[1;33m)\u001b[0m\u001b[1;33m\u001b[0m\u001b[1;33m\u001b[0m\u001b[0m\n",
      "\u001b[1;31mKeyboardInterrupt\u001b[0m: Interrupted by user"
     ]
    }
   ],
   "source": [
    "string  = int(input(\"enter any string here:\"))\n",
    "\n",
    "s = string.replace(0,1)\n",
    "print(s)\n",
    "        "
   ]
  },
  {
   "cell_type": "code",
   "execution_count": 8,
   "id": "53480d2a",
   "metadata": {},
   "outputs": [
    {
     "ename": "SyntaxError",
     "evalue": "invalid syntax (Temp/ipykernel_3896/553728710.py, line 2)",
     "output_type": "error",
     "traceback": [
      "\u001b[1;36m  File \u001b[1;32m\"C:\\Users\\abc\\AppData\\Local\\Temp/ipykernel_3896/553728710.py\"\u001b[1;36m, line \u001b[1;32m2\u001b[0m\n\u001b[1;33m    [1-9][0-9]{2}[T]?[a-z]*\u001b[0m\n\u001b[1;37m              ^\u001b[0m\n\u001b[1;31mSyntaxError\u001b[0m\u001b[1;31m:\u001b[0m invalid syntax\n"
     ]
    }
   ],
   "source": [
    "import re\n",
    "[1-9][0-9]{2}[T]?[a-z]*\n",
    "print(re.search('[1-9][0-9]{2}[T]?[a-z]*','kWQ@778894Tas#&'))"
   ]
  },
  {
   "cell_type": "code",
   "execution_count": 20,
   "id": "670be83b",
   "metadata": {},
   "outputs": [],
   "source": [
    "l1 = [1,1,0,1,0,1,1,1]\n",
    "count= 0\n",
    "for x in l1:\n",
    "    if x ==1:\n",
    "        z = count+x\n",
    "        if count == z:\n",
    "            print(count)"
   ]
  },
  {
   "cell_type": "code",
   "execution_count": null,
   "id": "6a258a63",
   "metadata": {},
   "outputs": [],
   "source": [
    "det = ['sajal', '24', 'bang']\n",
    "\n",
    "def sa(name,age,city):\n",
    "    "
   ]
  },
  {
   "cell_type": "code",
   "execution_count": null,
   "id": "6a4ed7f3",
   "metadata": {},
   "outputs": [],
   "source": [
    "regx  = '[1-9][0-9]{2}abc'\n",
    "\n",
    "\n",
    "regx = '[1-9][0-9]{2}[a-z]{3}'\n",
    "\n",
    "\n",
    "regx = '[a].*[z]'\n",
    "\n",
    "\n",
    "regx = '.*[a-z].*[a-z].*[a-z]'\n",
    "\n",
    "\n",
    "\n",
    "\n",
    "def printcl(str):\n",
    "    "
   ]
  },
  {
   "cell_type": "code",
   "execution_count": 22,
   "id": "5d29c464",
   "metadata": {},
   "outputs": [
    {
     "name": "stdout",
     "output_type": "stream",
     "text": [
      "enter the number30\n",
      "[2, 3, 5, 7, 11, 13, 17, 19, 23, 29]\n",
      "this is the pair 7 23\n",
      "this is the pair 11 19\n",
      "this is the pair 13 17\n",
      "this is the pair 17 13\n",
      "this is the pair 19 11\n",
      "this is the pair 23 7\n"
     ]
    }
   ],
   "source": [
    "numb = int(input(\"enter the number\"))\n",
    "sp =1\n",
    "l1 = []\n",
    "\n",
    "for i in range(sp,numb+1):\n",
    "    if i>1:\n",
    "        for x in range(2,i):\n",
    "            if i%x == 0:\n",
    "                break\n",
    "        else:\n",
    "            l1.append(i)\n",
    "            \n",
    "print(l1)\n",
    "\n",
    "for x in l1:\n",
    "    for y in l1:\n",
    "        if x+y == numb:\n",
    "            print(\"this is the pair\",x,y)"
   ]
  },
  {
   "cell_type": "code",
   "execution_count": 27,
   "id": "b3d15062",
   "metadata": {},
   "outputs": [
    {
     "name": "stdout",
     "output_type": "stream",
     "text": [
      "enterf\n",
      "102\n",
      "yes\n"
     ]
    }
   ],
   "source": [
    "inp = input(\"enter\")\n",
    "\n",
    "x = ord(inp)\n",
    "print(x)\n",
    "\n",
    "if (65<=x<=90 or 97<=x<=122):\n",
    "    print(\"yes\")\n",
    "else:\n",
    "    print(\"no\")"
   ]
  },
  {
   "cell_type": "code",
   "execution_count": null,
   "id": "85f9eba0",
   "metadata": {},
   "outputs": [],
   "source": [
    "number = int(input(\"enter the number here;\"))\n",
    "\n",
    "st  =1 \n",
    "\n",
    "for i in range(st,number+1):\n",
    "    if i>1:\n",
    "        for x in range(2,i):\n",
    "            if i%x == 0:\n",
    "                break\n",
    "        else:\n",
    "            print(i)\n",
    "                \n",
    "                "
   ]
  },
  {
   "cell_type": "code",
   "execution_count": 10,
   "id": "47c87715",
   "metadata": {},
   "outputs": [
    {
     "name": "stdout",
     "output_type": "stream",
     "text": [
      "enter month2\n",
      "enter year2020\n",
      "month of 29 days\n"
     ]
    }
   ],
   "source": [
    "month = input(\"enter month\")\n",
    "year = input(\"enter year\")\n",
    "mon = int(month)\n",
    "ye = int(year)\n",
    "\n",
    "if (ye%4 == 0 or ye%400 == 0):\n",
    "    y = 'leap'\n",
    "else:\n",
    "    y = 'not leap'\n",
    "    \n",
    "if y == 'leap':\n",
    "    if month == '2':\n",
    "        print(\"month of 29 days\")\n",
    "    elif mon%2 ==0:\n",
    "        print(\"month of 30 days\")\n",
    "    else:\n",
    "        print(\"month of 31 days\")\n",
    "if y == 'not leap':\n",
    "    if month == '2':\n",
    "        print(\"month of 28 days\")\n",
    "    elif mon%2 == 0:\n",
    "        print(\"month of 30 days\")\n",
    "    else:\n",
    "        print(\"month of 31 days\")\n"
   ]
  },
  {
   "cell_type": "code",
   "execution_count": 13,
   "id": "62476a96",
   "metadata": {},
   "outputs": [
    {
     "name": "stdout",
     "output_type": "stream",
     "text": [
      "enter the number7999745999999\n",
      "enter the number you find9\n",
      "9\n"
     ]
    }
   ],
   "source": [
    "numb = input(\"enter the number\")\n",
    "no_find = input(\"enter the number you find\")\n",
    "count = 0\n",
    "for i in numb:\n",
    "    if i == no_find:\n",
    "        count+=1\n",
    "print(count)"
   ]
  },
  {
   "cell_type": "code",
   "execution_count": 14,
   "id": "eb434422",
   "metadata": {},
   "outputs": [
    {
     "name": "stdout",
     "output_type": "stream",
     "text": [
      "Enter range of number :30\n",
      "Enter exact number of divisors :3\n",
      "4 9 25 \n",
      "3\n"
     ]
    }
   ],
   "source": []
  },
  {
   "cell_type": "code",
   "execution_count": 20,
   "id": "18a621ea",
   "metadata": {},
   "outputs": [
    {
     "name": "stdout",
     "output_type": "stream",
     "text": [
      "enter the numbers where you want to range400\n",
      "enter the divisor3\n",
      "4\n",
      "9\n",
      "25\n",
      "49\n",
      "121\n",
      "169\n",
      "289\n",
      "361\n"
     ]
    }
   ],
   "source": [
    "ran = int(input(\"enter the numbers where you want to range\"))\n",
    "divisors = int(input(\"enter the divisor\"))\n",
    "for i in range(1,ran+1):\n",
    "    count = 0\n",
    "    for x in range(1,i+1):\n",
    "        if i%x == 0:\n",
    "            count+=1\n",
    "    if count == divisors:\n",
    "        print(i)"
   ]
  },
  {
   "cell_type": "code",
   "execution_count": 24,
   "id": "d3f3084d",
   "metadata": {},
   "outputs": [
    {
     "name": "stdout",
     "output_type": "stream",
     "text": [
      "[34, 7, 6, 5, 2, 1]\n"
     ]
    }
   ],
   "source": [
    "l1= [1,2,34,5,6,7]\n",
    "\n",
    "l1.sort(reverse =True)\n",
    "print(l1)"
   ]
  },
  {
   "cell_type": "code",
   "execution_count": 35,
   "id": "ca36b2df",
   "metadata": {},
   "outputs": [
    {
     "name": "stdout",
     "output_type": "stream",
     "text": [
      "{12: 3, 23: 2, 44: 2, 8: 1, 65: 1}\n",
      "this is the repeat in the list 8 1 times\n",
      "this is the repeat in the list 65 1 times\n"
     ]
    }
   ],
   "source": [
    "arr = [12,23,44,44,12,8,65,23,12]\n",
    "s={}\n",
    "for i in arr:\n",
    "    s[i] = arr.count(i)\n",
    "print(s)\n",
    "\n",
    "for i in s:\n",
    "    x = s[i]\n",
    "    if x == 1:\n",
    "        print(\"this is the repeat in the list\",i,x,\"times\")"
   ]
  },
  {
   "cell_type": "code",
   "execution_count": 1,
   "id": "e09d87f7",
   "metadata": {},
   "outputs": [
    {
     "data": {
      "text/plain": [
       "[18, 8, 12, 16]"
      ]
     },
     "execution_count": 1,
     "metadata": {},
     "output_type": "execute_result"
    }
   ],
   "source": [
    "def sqr(no):\n",
    "    return (no-1)*2\n",
    "\n",
    "no = [10,5,7,9]\n",
    "\n",
    "list(map(sqr,no))"
   ]
  },
  {
   "cell_type": "code",
   "execution_count": 11,
   "id": "ff2c330b",
   "metadata": {},
   "outputs": [
    {
     "ename": "TypeError",
     "evalue": "emp() missing 3 required positional arguments: 'emp_id', 'sallary', and 'isMarried'",
     "output_type": "error",
     "traceback": [
      "\u001b[1;31m---------------------------------------------------------------------------\u001b[0m",
      "\u001b[1;31mTypeError\u001b[0m                                 Traceback (most recent call last)",
      "\u001b[1;32m~\\AppData\\Local\\Temp/ipykernel_8524/1022242580.py\u001b[0m in \u001b[0;36m<module>\u001b[1;34m\u001b[0m\n\u001b[0;32m     24\u001b[0m \u001b[1;33m\u001b[0m\u001b[0m\n\u001b[0;32m     25\u001b[0m \u001b[1;33m\u001b[0m\u001b[0m\n\u001b[1;32m---> 26\u001b[1;33m \u001b[0mtuple\u001b[0m\u001b[1;33m(\u001b[0m\u001b[0mmap\u001b[0m\u001b[1;33m(\u001b[0m\u001b[0memp\u001b[0m\u001b[1;33m,\u001b[0m\u001b[0memployees\u001b[0m\u001b[1;33m)\u001b[0m\u001b[1;33m)\u001b[0m\u001b[1;33m\u001b[0m\u001b[1;33m\u001b[0m\u001b[0m\n\u001b[0m",
      "\u001b[1;31mTypeError\u001b[0m: emp() missing 3 required positional arguments: 'emp_id', 'sallary', and 'isMarried'"
     ]
    }
   ],
   "source": [
    "employees = [ \n",
    " {'name': 'Aman',\n",
    " 'emp_id': 37,\n",
    " 'sallary': 1900,\n",
    " 'isMarried': True},\n",
    "{'name': 'Rohan',\n",
    " 'emp_id': 29,\n",
    " 'sallary': 33000,\n",
    " 'isMarried': False},\n",
    "{'name': 'Aadil',\n",
    " 'emp_id': 69,\n",
    " 'sallary': 121000,\n",
    " 'isMarried': True},\n",
    "{'name': 'Mohammed',\n",
    " 'emp_id': 53,\n",
    " 'sallary': 50000,\n",
    " 'isMarried': True}\n",
    "]\n",
    "\n",
    "\n",
    "def emp(name, emp_id, sallary, isMarried):\n",
    "    for i in employees:\n",
    "        print(name,\"with the\",emp_id,\"and he has\",sallary,\"and he is\", isMarried)\n",
    "        \n",
    "        \n",
    "tuple(map(emp,employees))"
   ]
  },
  {
   "cell_type": "code",
   "execution_count": 2,
   "id": "e26bda4d",
   "metadata": {},
   "outputs": [
    {
     "name": "stdout",
     "output_type": "stream",
     "text": [
      "2022-01-13\n"
     ]
    }
   ],
   "source": [
    "from datetime import date\n",
    "z = date.today()\n",
    "print(z)"
   ]
  },
  {
   "cell_type": "code",
   "execution_count": 23,
   "id": "af8dd91b",
   "metadata": {},
   "outputs": [
    {
     "name": "stdout",
     "output_type": "stream",
     "text": [
      "4844\n"
     ]
    }
   ],
   "source": [
    "def dd(l1,l2):\n",
    "    l1.sort()\n",
    "    l2.sort(reverse=True)\n",
    "    count = 0\n",
    "\n",
    "    for i in range(len(l1)):\n",
    "        count = count + (l1[i]*l2[i])\n",
    "    print(count)\n",
    "    \n",
    "dd([8,5,7,4,54],[8,454,6,451,55])\n"
   ]
  },
  {
   "cell_type": "code",
   "execution_count": 96,
   "id": "5c69807e",
   "metadata": {},
   "outputs": [],
   "source": [
    "import random\n",
    "from datetime import date\n",
    "\n",
    "class Banking:\n",
    "    child_fund = {}\n",
    "    sip_plans = {'1year':[5000,8000,11000], '2year':[1200,14000,17000], '3year':[1800,20000,23000]}\n",
    "    \n",
    "    def __init__(self,name,mobile_no,password,pin,address,account_no,ifsc,bal):\n",
    "        self.owner_of_account = name\n",
    "        self.phone_no = mobile_no\n",
    "        self.password_of_account = password\n",
    "        self.pin_of_account = pin\n",
    "        self.address_of_owner = address\n",
    "        self.account_number = account_no\n",
    "        self.ifsc_number = ifsc\n",
    "        self.balance = bal\n",
    "        self.withdrawal_his = []\n",
    "        self.deposit_his = []\n",
    "        self.validate_otp()\n",
    "        self.login = False\n",
    "        \n",
    "    def validate_otp(self):\n",
    "        otp_sys = str(random.randint(10000, 99999))\n",
    "        print(\"This is OTP to login\"+ otp_sys)\n",
    "        user_otp = input(\"Enter the OTP here: \")\n",
    "        if otp_sys == user_otp:\n",
    "            print(f\"Welcome to HDFC,{self.owner_of_account}\")\n",
    "            self.login = True\n",
    "        else:\n",
    "            print(f\"This is not the wrong credentials of {self.owner_of_account}\")\n",
    "            \n",
    "    def kyc_verification(self,add):\n",
    "        if self.address_of_owner == add:\n",
    "            print(f\"The kyc is done of {self.owner_of_account} with the adderss of {add}\")\n",
    "        else:\n",
    "            print(f\"this is not the right address given by the {self.owner_of_account}\")\n",
    "            \n",
    "    def deposit(self,pinnn,amount):\n",
    "        if self.pin_of_account == pinnn:\n",
    "            print(\"the pin is matched\")\n",
    "            if amount>100:\n",
    "                self.deposit_his.append(amount)\n",
    "                self.balance+=amount\n",
    "                print(f\"The deposit of {amount} in the {self.account_number} is successfully done \")\n",
    "            else:\n",
    "                print(f\"the given amount is not valid {amount}\")\n",
    "                \n",
    "    def withdrawal(self,pinnn,amount):\n",
    "        if self.pin_of_account == pinnn:\n",
    "            print(\"the pin is matched\")\n",
    "            if amount<=self.balance and amount>100:\n",
    "                self.withdrawal_his.append(amount)\n",
    "                self.balance-=amount\n",
    "                print(f\"The withdrawal of {amount} in the {self.account_number} is successfully done\")\n",
    "            else:\n",
    "                print(f\"Enter the valid amount\")\n",
    "                \n",
    "                \n",
    "    def check_balance(self):\n",
    "        print(f\"The balance of your account is {self.balance}\")\n",
    "        \n",
    "    def change_pin(self,pinnn):\n",
    "        self.pin_of_account = pinnn\n",
    "        print(f\"The new pin of {self.account_number} is {pinnn}\")\n",
    "        \n",
    "    def deposit_history(self):\n",
    "        for i in self.deposit_his:\n",
    "            print(f\"deposit of {i}\")\n",
    "            \n",
    "    def withdrawal_history(self):\n",
    "        for i in self.withdrawal_his:\n",
    "            print(f\"withdrawal of rs {i}\")\n",
    "            \n",
    "    def set_age(self, dob):\n",
    "        self.dob = dob\n",
    "        self.age = (date.today() - dob).days//365\n",
    "        \n",
    "    def get_age(self):\n",
    "        return self.age\n",
    "    \n",
    "    \n",
    "    @classmethod\n",
    "    def sip_plan(cls,year,sip):\n",
    "        if self.age>18:\n",
    "            for mon,money in Banking.sip_plans.items():\n",
    "                if sip == money and year == mon:\n",
    "                    print(f\"The sips are  turned on {self.account_number} account with tensure of {year} of the amount of {sip}\")\n",
    "                    \n",
    "                else:\n",
    "                    print(f\"the given details didn't match of {year} and {sip}\")\n",
    "                    \n",
    "                    \n",
    "    @classmethod\n",
    "    def child_raise_fund(cls,nam, pinn):\n",
    "        if self.owner_of_account == nam and self.pin_of_account == pinn:\n",
    "            fund = int(input(\"How much amount you want to donate\"))\n",
    "            if self.balance > fund:\n",
    "                self.balance-=fund\n",
    "            child_fund[self.owner_of_account] = fund\n",
    "            print(f\"the {fund} is successfuly donated to child funds\")\n",
    "            print(child_fund)"
   ]
  },
  {
   "cell_type": "code",
   "execution_count": 97,
   "id": "e780ab1f",
   "metadata": {},
   "outputs": [
    {
     "name": "stdout",
     "output_type": "stream",
     "text": [
      "This is OTP to login23334\n",
      "Enter the OTP here: 23334\n",
      "Welcome to HDFC,Sajal Tiwari\n",
      "This is OTP to login16996\n",
      "Enter the OTP here: 16996\n",
      "Welcome to HDFC,Prakhar Tiwari\n"
     ]
    }
   ],
   "source": [
    "sajalacc = Banking(\"Sajal Tiwari\", 9821049636, \"@123\", 7896, \"gwalior\", 2988123456, \"CBIN02885\", 3000)\n",
    "prakharacc = Banking(\"Prakhar Tiwari\", 7999740723, \"@456\", 4569, \"up\", 14885975458, \"CBIN02845\", 5000)"
   ]
  },
  {
   "cell_type": "code",
   "execution_count": 98,
   "id": "513bb864",
   "metadata": {},
   "outputs": [
    {
     "ename": "NameError",
     "evalue": "name 'self' is not defined",
     "output_type": "error",
     "traceback": [
      "\u001b[1;31m---------------------------------------------------------------------------\u001b[0m",
      "\u001b[1;31mNameError\u001b[0m                                 Traceback (most recent call last)",
      "\u001b[1;32m~\\AppData\\Local\\Temp/ipykernel_4228/3755435726.py\u001b[0m in \u001b[0;36m<module>\u001b[1;34m\u001b[0m\n\u001b[1;32m----> 1\u001b[1;33m \u001b[0msajalacc\u001b[0m\u001b[1;33m.\u001b[0m\u001b[0msip_plan\u001b[0m\u001b[1;33m(\u001b[0m\u001b[1;34m\"1year\"\u001b[0m\u001b[1;33m,\u001b[0m \u001b[1;36m8000\u001b[0m\u001b[1;33m)\u001b[0m\u001b[1;33m\u001b[0m\u001b[1;33m\u001b[0m\u001b[0m\n\u001b[0m",
      "\u001b[1;32m~\\AppData\\Local\\Temp/ipykernel_4228/584408499.py\u001b[0m in \u001b[0;36msip_plan\u001b[1;34m(cls, year, sip)\u001b[0m\n\u001b[0;32m     82\u001b[0m     \u001b[1;33m@\u001b[0m\u001b[0mclassmethod\u001b[0m\u001b[1;33m\u001b[0m\u001b[1;33m\u001b[0m\u001b[0m\n\u001b[0;32m     83\u001b[0m     \u001b[1;32mdef\u001b[0m \u001b[0msip_plan\u001b[0m\u001b[1;33m(\u001b[0m\u001b[0mcls\u001b[0m\u001b[1;33m,\u001b[0m\u001b[0myear\u001b[0m\u001b[1;33m,\u001b[0m\u001b[0msip\u001b[0m\u001b[1;33m)\u001b[0m\u001b[1;33m:\u001b[0m\u001b[1;33m\u001b[0m\u001b[1;33m\u001b[0m\u001b[0m\n\u001b[1;32m---> 84\u001b[1;33m         \u001b[1;32mif\u001b[0m \u001b[0mself\u001b[0m\u001b[1;33m.\u001b[0m\u001b[0mage\u001b[0m\u001b[1;33m>\u001b[0m\u001b[1;36m18\u001b[0m\u001b[1;33m:\u001b[0m\u001b[1;33m\u001b[0m\u001b[1;33m\u001b[0m\u001b[0m\n\u001b[0m\u001b[0;32m     85\u001b[0m             \u001b[1;32mfor\u001b[0m \u001b[0mmon\u001b[0m\u001b[1;33m,\u001b[0m\u001b[0mmoney\u001b[0m \u001b[1;32min\u001b[0m \u001b[0mBanking\u001b[0m\u001b[1;33m.\u001b[0m\u001b[0msip_plans\u001b[0m\u001b[1;33m.\u001b[0m\u001b[0mitems\u001b[0m\u001b[1;33m(\u001b[0m\u001b[1;33m)\u001b[0m\u001b[1;33m:\u001b[0m\u001b[1;33m\u001b[0m\u001b[1;33m\u001b[0m\u001b[0m\n\u001b[0;32m     86\u001b[0m                 \u001b[1;32mif\u001b[0m \u001b[0msip\u001b[0m \u001b[1;33m==\u001b[0m \u001b[0mmoney\u001b[0m \u001b[1;32mand\u001b[0m \u001b[0myear\u001b[0m \u001b[1;33m==\u001b[0m \u001b[0mmon\u001b[0m\u001b[1;33m:\u001b[0m\u001b[1;33m\u001b[0m\u001b[1;33m\u001b[0m\u001b[0m\n",
      "\u001b[1;31mNameError\u001b[0m: name 'self' is not defined"
     ]
    }
   ],
   "source": [
    "sajalacc.sip_plan(\"1year\", 8000)"
   ]
  },
  {
   "cell_type": "code",
   "execution_count": null,
   "id": "975b1bd1",
   "metadata": {},
   "outputs": [],
   "source": [
    "import random\n",
    "from datetime import date\n",
    "\n",
    "class Banking:\n",
    "    child_fund = {}\n",
    "    sip_plans = {'1year':[5000,8000,11000], '2year':[1200,14000,17000], '3year':[1800,20000,23000]}\n",
    "    \n",
    "    def __init__(self,name,mobile_no,password,pin,address,account_no,ifsc,bal):\n",
    "        self.owner_of_account = name\n",
    "        self.phone_no = mobile_no\n",
    "        self.password_of_account = password\n",
    "        self.pin_of_account = pin\n",
    "        self.address_of_owner = address\n",
    "        self.account_number = account_no\n",
    "        self.ifsc_number = ifsc\n",
    "        self.balance = bal\n",
    "        self.withdrawal_his = []\n",
    "        self.deposit_his = []\n",
    "        self.validate_otp()\n",
    "        self.login = False\n",
    "        \n",
    "    def validate_otp(self):\n",
    "        otp_sys = str(random.randint(10000, 99999))\n",
    "        print(\"This is OTP to login\"+ otp_sys)\n",
    "        user_otp = input(\"Enter the OTP here: \")\n",
    "        if otp_sys == user_otp:\n",
    "            print(f\"Welcome to HDFC,{self.owner_of_account}\")\n",
    "            self.login = True\n",
    "        else:\n",
    "            print(f\"This is not the wrong credentials of {self.owner_of_account}\")\n",
    "            \n",
    "    def kyc_verification(self,add):\n",
    "        if self.address_of_owner == add:\n",
    "            print(f\"The kyc is done of {self.owner_of_account} with the adderss of {add}\")\n",
    "        else:\n",
    "            print(f\"this is not the right address given by the {self.owner_of_account}\")\n",
    "            \n",
    "    def deposit(self,pinnn,amount):\n",
    "        if self.pin_of_account == pinnn:\n",
    "            print(\"the pin is matched\")\n",
    "            if amount>100:\n",
    "                self.deposit_his.append(amount)\n",
    "                self.balance+=amount\n",
    "                print(f\"The deposit of {amount} in the {self.account_number} is successfully done \")\n",
    "            else:\n",
    "                print(f\"the given amount is not valid {amount}\")\n",
    "                \n",
    "    def withdrawal(self,pinnn,amount):\n",
    "        if self.pin_of_account == pinnn:\n",
    "            print(\"the pin is matched\")\n",
    "            if amount<=self.balance and amount>100:\n",
    "                self.withdrawal_his.append(amount)\n",
    "                self.balance-=amount\n",
    "                print(f\"The withdrawal of {amount} in the {self.account_number} is successfully done\")\n",
    "            else:\n",
    "                print(f\"Enter the valid amount\")\n",
    "                \n",
    "                \n",
    "    def check_balance(self):\n",
    "        print(f\"The balance of your account is {self.balance}\")\n",
    "        \n",
    "    def change_pin(self,pinnn):\n",
    "        self.pin_of_account = pinnn\n",
    "        print(f\"The new pin of {self.account_number} is {pinnn}\")\n",
    "        \n",
    "    def deposit_history(self):\n",
    "        for i in self.deposit_his:\n",
    "            print(f\"deposit of {i}\")\n",
    "            \n",
    "    def withdrawal_history(self):\n",
    "        for i in self.withdrawal_his:\n",
    "            print(f\"withdrawal of rs {i}\")\n",
    "            \n",
    "    def set_age(self, dob):\n",
    "        self.dob = dob\n",
    "        self.age = (date.today() - dob).days//365\n",
    "        \n",
    "    def get_age(self):\n",
    "        return self.age\n",
    "    \n",
    "    \n",
    "    @classmethod\n",
    "    def sip_plan(cls,year,sip):\n",
    "        if self.age>18:\n",
    "            for mon,money in Banking.sip_plans.items():\n",
    "                if sip == money and year == mon:\n",
    "                    print(f\"The sips are  turned on {self.account_number} account with tensure of {year} of the amount of {sip}\")\n",
    "                    \n",
    "                else:\n",
    "                    print(f\"the given details didn't match of {year} and {sip}\")\n",
    "                    \n",
    "                    \n",
    "    @classmethod\n",
    "    def child_raise_fund(cls,nam, pinn):\n",
    "        if self.owner_of_account == nam and self.pin_of_account == pinn:\n",
    "            fund = int(input(\"How much amount you want to donate\"))\n",
    "            if self.balance > fund:\n",
    "                self.balance-=fund\n",
    "            child_fund[self.owner_of_account] = fund\n",
    "            print(f\"the {fund} is successfuly donated to child funds\")\n",
    "            print(child_fund)"
   ]
  },
  {
   "cell_type": "code",
   "execution_count": null,
   "id": "43a85baf",
   "metadata": {},
   "outputs": [],
   "source": []
  }
 ],
 "metadata": {
  "kernelspec": {
   "display_name": "Python 3 (ipykernel)",
   "language": "python",
   "name": "python3"
  },
  "language_info": {
   "codemirror_mode": {
    "name": "ipython",
    "version": 3
   },
   "file_extension": ".py",
   "mimetype": "text/x-python",
   "name": "python",
   "nbconvert_exporter": "python",
   "pygments_lexer": "ipython3",
   "version": "3.10.1"
  }
 },
 "nbformat": 4,
 "nbformat_minor": 5
}
